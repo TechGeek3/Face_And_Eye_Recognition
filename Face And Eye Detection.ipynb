{
 "cells": [
  {
   "cell_type": "markdown",
   "metadata": {},
   "source": [
    "# Face Recognition"
   ]
  },
  {
   "cell_type": "code",
   "execution_count": 2,
   "metadata": {},
   "outputs": [],
   "source": [
    "import cv2"
   ]
  },
  {
   "cell_type": "code",
   "execution_count": 3,
   "metadata": {
    "scrolled": true
   },
   "outputs": [
    {
     "data": {
      "text/plain": [
       "True"
      ]
     },
     "execution_count": 3,
     "metadata": {},
     "output_type": "execute_result"
    }
   ],
   "source": [
    "cap=cv2.VideoCapture(0)\n",
    "cap.set(3,300)\n",
    "cap.set(4,300)"
   ]
  },
  {
   "cell_type": "code",
   "execution_count": 4,
   "metadata": {},
   "outputs": [],
   "source": [
    "faceCascade=cv2.CascadeClassifier(\"Copy of haarcascade_frontalface_default (1).xml\")"
   ]
  },
  {
   "cell_type": "code",
   "execution_count": 5,
   "metadata": {},
   "outputs": [],
   "source": [
    "while True:\n",
    "    success,web=cap.read()\n",
    "    web=cv2.flip(web,1)\n",
    "    img_gray=cv2.cvtColor(web,cv2.COLOR_BGR2GRAY)\n",
    "    faces=faceCascade.detectMultiScale(img_gray,1.1,4)    #1.1-ScaleFactor. Since some faces may be closer to the camera, they would appear bigger than the faces in the back. The scale factor compensates for this\n",
    "    for (x,y,w,h) in faces:                               #4-min neighbours near main face\n",
    "        cv2.rectangle(web,(x,y),(x+w,y+h),(0,255,0),2)\n",
    "    \n",
    "    cv2.imshow(\"result\",web)\n",
    "    if cv2.waitKey(0) & 0xff==ord('p'):\n",
    "        break\n",
    "    cv2.destroyAllWindows()\n",
    "        "
   ]
  },
  {
   "cell_type": "markdown",
   "metadata": {},
   "source": [
    "# Eye Recognition"
   ]
  },
  {
   "cell_type": "code",
   "execution_count": 1,
   "metadata": {},
   "outputs": [],
   "source": [
    "import cv2"
   ]
  },
  {
   "cell_type": "code",
   "execution_count": 2,
   "metadata": {},
   "outputs": [
    {
     "data": {
      "text/plain": [
       "True"
      ]
     },
     "execution_count": 2,
     "metadata": {},
     "output_type": "execute_result"
    }
   ],
   "source": [
    "cap=cv2.VideoCapture(0)\n",
    "cap.set(3,300)\n",
    "cap.set(4,300)"
   ]
  },
  {
   "cell_type": "code",
   "execution_count": 3,
   "metadata": {},
   "outputs": [],
   "source": [
    "faceCascade=cv2.CascadeClassifier(\"Copy of haarcascade_frontalface_default (1).xml\")\n",
    "eyeCascade=cv2.CascadeClassifier(\"Copy of haarcascade_eye.xml\")"
   ]
  },
  {
   "cell_type": "code",
   "execution_count": 4,
   "metadata": {},
   "outputs": [],
   "source": [
    "while True:\n",
    "    success,web=cap.read()\n",
    "    web=cv2.flip(web,1)\n",
    "    img_gray=cv2.cvtColor(web,cv2.COLOR_BGR2GRAY)\n",
    "    faces=faceCascade.detectMultiScale(img_gray,1.1,4)\n",
    "    \n",
    "    for x,y,w,h in faces:\n",
    "        cv2.rectangle(web,(x,y),(x+h,y+w),(0,255,0),2)\n",
    "    \n",
    "    \n",
    "    face_gray=img_gray[y:y+w,x:x+h]\n",
    "    face_color=web[y:y+w,x:x+h]\n",
    "    \n",
    "    eyes=eyeCascade.detectMultiScale(face_gray,1.5,4)\n",
    "    \n",
    "    for a,b,c,d in eyes:\n",
    "        cv2.rectangle(face_color,(a,b),(a+c,b+d),(0,255,0),2)\n",
    "        \n",
    "        \n",
    "    cv2.imshow(\"result\",web)\n",
    "    if cv2.waitKey(0) & 0xff==ord('p'):\n",
    "        break\n",
    "    cv2.destroyAllWindows()"
   ]
  },
  {
   "cell_type": "code",
   "execution_count": null,
   "metadata": {},
   "outputs": [],
   "source": []
  }
 ],
 "metadata": {
  "kernelspec": {
   "display_name": "Python 3",
   "language": "python",
   "name": "python3"
  },
  "language_info": {
   "codemirror_mode": {
    "name": "ipython",
    "version": 3
   },
   "file_extension": ".py",
   "mimetype": "text/x-python",
   "name": "python",
   "nbconvert_exporter": "python",
   "pygments_lexer": "ipython3",
   "version": "3.8.8"
  }
 },
 "nbformat": 4,
 "nbformat_minor": 4
}
